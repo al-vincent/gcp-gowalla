{
 "cells": [
  {
   "cell_type": "markdown",
   "id": "60cbc267",
   "metadata": {},
   "source": [
    "# Processing Gowalla Checkins\n",
    "\n",
    "This notebook processes the [original Gowalla checkins data](https://snap.stanford.edu/data/loc-gowalla.html) into a database-style format, with a few normalised tables (augmented with some freely-available data).\n",
    "\n",
    "It represents the first step in a wider project, to create a pipeline from a PostgreSQL database to BigQuery, that automatically triggers updates and displays some simple dashboards in Looker.\n",
    "\n",
    "---"
   ]
  },
  {
   "cell_type": "markdown",
   "id": "e04287ac",
   "metadata": {},
   "source": [
    "## Setup\n",
    "\n",
    "Import packages and other basic setup"
   ]
  },
  {
   "cell_type": "code",
   "execution_count": 51,
   "id": "2dfbb835",
   "metadata": {},
   "outputs": [],
   "source": [
    "## Packages and modules\n",
    "import pandas as pd\n",
    "from os import path\n",
    "from randomuser import RandomUser"
   ]
  },
  {
   "cell_type": "code",
   "execution_count": 41,
   "id": "ec273420",
   "metadata": {},
   "outputs": [],
   "source": [
    "## Constants\n",
    "\n",
    "# path to raw Gowalla data\n",
    "RAW_DATA = path.join(\"raw\", \"loc-gowalla_totalCheckins.txt.gz\")\n",
    "# number of checkins to include in sample\n",
    "SAMPLE_SIZE = 2000"
   ]
  },
  {
   "cell_type": "markdown",
   "id": "88e10a57",
   "metadata": {},
   "source": [
    "---\n",
    "\n",
    "## Read data from file, and sample\n",
    "\n",
    "Pandas has no issues reading the data from a .gz archive, so can just load the file directly. However, a couple of gotchas:\n",
    "- There are no headers in the file, just the raw data;\n",
    "- The delimiters used are tabs (i.e. `\\t`), not commas."
   ]
  },
  {
   "cell_type": "code",
   "execution_count": 42,
   "id": "f171b1a8",
   "metadata": {},
   "outputs": [
    {
     "data": {
      "text/html": [
       "<div>\n",
       "<style scoped>\n",
       "    .dataframe tbody tr th:only-of-type {\n",
       "        vertical-align: middle;\n",
       "    }\n",
       "\n",
       "    .dataframe tbody tr th {\n",
       "        vertical-align: top;\n",
       "    }\n",
       "\n",
       "    .dataframe thead th {\n",
       "        text-align: right;\n",
       "    }\n",
       "</style>\n",
       "<table border=\"1\" class=\"dataframe\">\n",
       "  <thead>\n",
       "    <tr style=\"text-align: right;\">\n",
       "      <th></th>\n",
       "      <th>user</th>\n",
       "      <th>check_in_time</th>\n",
       "      <th>latitude</th>\n",
       "      <th>longitude</th>\n",
       "      <th>location_id</th>\n",
       "    </tr>\n",
       "  </thead>\n",
       "  <tbody>\n",
       "    <tr>\n",
       "      <th>0</th>\n",
       "      <td>0</td>\n",
       "      <td>2010-10-19T23:55:27Z</td>\n",
       "      <td>30.235909</td>\n",
       "      <td>-97.795140</td>\n",
       "      <td>22847</td>\n",
       "    </tr>\n",
       "    <tr>\n",
       "      <th>1</th>\n",
       "      <td>0</td>\n",
       "      <td>2010-10-18T22:17:43Z</td>\n",
       "      <td>30.269103</td>\n",
       "      <td>-97.749395</td>\n",
       "      <td>420315</td>\n",
       "    </tr>\n",
       "    <tr>\n",
       "      <th>2</th>\n",
       "      <td>0</td>\n",
       "      <td>2010-10-17T23:42:03Z</td>\n",
       "      <td>30.255731</td>\n",
       "      <td>-97.763386</td>\n",
       "      <td>316637</td>\n",
       "    </tr>\n",
       "    <tr>\n",
       "      <th>3</th>\n",
       "      <td>0</td>\n",
       "      <td>2010-10-17T19:26:05Z</td>\n",
       "      <td>30.263418</td>\n",
       "      <td>-97.757597</td>\n",
       "      <td>16516</td>\n",
       "    </tr>\n",
       "    <tr>\n",
       "      <th>4</th>\n",
       "      <td>0</td>\n",
       "      <td>2010-10-16T18:50:42Z</td>\n",
       "      <td>30.274292</td>\n",
       "      <td>-97.740523</td>\n",
       "      <td>5535878</td>\n",
       "    </tr>\n",
       "  </tbody>\n",
       "</table>\n",
       "</div>"
      ],
      "text/plain": [
       "   user         check_in_time   latitude  longitude  location_id\n",
       "0     0  2010-10-19T23:55:27Z  30.235909 -97.795140        22847\n",
       "1     0  2010-10-18T22:17:43Z  30.269103 -97.749395       420315\n",
       "2     0  2010-10-17T23:42:03Z  30.255731 -97.763386       316637\n",
       "3     0  2010-10-17T19:26:05Z  30.263418 -97.757597        16516\n",
       "4     0  2010-10-16T18:50:42Z  30.274292 -97.740523      5535878"
      ]
     },
     "execution_count": 42,
     "metadata": {},
     "output_type": "execute_result"
    }
   ],
   "source": [
    "df = pd.read_csv(\n",
    "    RAW_DATA,\n",
    "    header=None,\n",
    "    names=[\"user\", \"check_in_time\", \"latitude\", \"longitude\", \"location_id\"],\n",
    "    delimiter=\"\\t\"\n",
    ")\n",
    "df.head()"
   ]
  },
  {
   "cell_type": "markdown",
   "id": "21588b73",
   "metadata": {},
   "source": [
    "That's what we're after. Let's check a few stats..."
   ]
  },
  {
   "cell_type": "code",
   "execution_count": 43,
   "id": "2ed07177",
   "metadata": {},
   "outputs": [
    {
     "name": "stdout",
     "output_type": "stream",
     "text": [
      "Length of df: 6442892\n"
     ]
    }
   ],
   "source": [
    "print(f\"Length of df: {len(df)}\")"
   ]
  },
  {
   "cell_type": "code",
   "execution_count": 44,
   "id": "f1056aac",
   "metadata": {},
   "outputs": [
    {
     "name": "stdout",
     "output_type": "stream",
     "text": [
      "Number of unique vals in 'user': 107092\n",
      "Number of unique vals in 'location_id': 1280969\n"
     ]
    }
   ],
   "source": [
    "for col in [\"user\", \"location_id\"]:\n",
    "    print(f\"Number of unique vals in '{col}': {len(df[col].unique())}\")"
   ]
  },
  {
   "cell_type": "code",
   "execution_count": 45,
   "id": "9147eaf2",
   "metadata": {},
   "outputs": [
    {
     "data": {
      "text/plain": [
       "0.016621728254951347"
      ]
     },
     "execution_count": 45,
     "metadata": {},
     "output_type": "execute_result"
    }
   ],
   "source": [
    "107092/6442892"
   ]
  },
  {
   "cell_type": "markdown",
   "id": "98b590a8",
   "metadata": {},
   "source": [
    "So, there are relatively few unique users, but quite a lot of unique locations. Not good or bad, exactly - just notable.\n",
    "\n",
    "---"
   ]
  },
  {
   "cell_type": "markdown",
   "id": "988b1f73",
   "metadata": {},
   "source": [
    "Now, get a randomly-selected sample of these rows (we don't need / want to work with all 6.4m rows for this). \n",
    "\n",
    "To reduce the overhead a bit when it comes to building the db, we'll get the number of times each user appears, add this to the original df, and weight the users by this value (so that users with more checkins are more likely to appear in the table)"
   ]
  },
  {
   "cell_type": "code",
   "execution_count": 46,
   "id": "8381d675",
   "metadata": {},
   "outputs": [
    {
     "data": {
      "text/html": [
       "<div>\n",
       "<style scoped>\n",
       "    .dataframe tbody tr th:only-of-type {\n",
       "        vertical-align: middle;\n",
       "    }\n",
       "\n",
       "    .dataframe tbody tr th {\n",
       "        vertical-align: top;\n",
       "    }\n",
       "\n",
       "    .dataframe thead th {\n",
       "        text-align: right;\n",
       "    }\n",
       "</style>\n",
       "<table border=\"1\" class=\"dataframe\">\n",
       "  <thead>\n",
       "    <tr style=\"text-align: right;\">\n",
       "      <th></th>\n",
       "      <th>user</th>\n",
       "      <th>counts</th>\n",
       "    </tr>\n",
       "  </thead>\n",
       "  <tbody>\n",
       "    <tr>\n",
       "      <th>0</th>\n",
       "      <td>10971</td>\n",
       "      <td>2175</td>\n",
       "    </tr>\n",
       "    <tr>\n",
       "      <th>1</th>\n",
       "      <td>776</td>\n",
       "      <td>2175</td>\n",
       "    </tr>\n",
       "    <tr>\n",
       "      <th>2</th>\n",
       "      <td>18931</td>\n",
       "      <td>2150</td>\n",
       "    </tr>\n",
       "    <tr>\n",
       "      <th>3</th>\n",
       "      <td>49918</td>\n",
       "      <td>2125</td>\n",
       "    </tr>\n",
       "    <tr>\n",
       "      <th>4</th>\n",
       "      <td>620</td>\n",
       "      <td>2125</td>\n",
       "    </tr>\n",
       "  </tbody>\n",
       "</table>\n",
       "</div>"
      ],
      "text/plain": [
       "    user  counts\n",
       "0  10971    2175\n",
       "1    776    2175\n",
       "2  18931    2150\n",
       "3  49918    2125\n",
       "4    620    2125"
      ]
     },
     "execution_count": 46,
     "metadata": {},
     "output_type": "execute_result"
    }
   ],
   "source": [
    "df_user_counts = df[\"user\"].value_counts().rename_axis(\"user\").reset_index(name=\"counts\")\n",
    "df_user_counts.head()"
   ]
  },
  {
   "cell_type": "code",
   "execution_count": 47,
   "id": "fadda06d",
   "metadata": {},
   "outputs": [
    {
     "data": {
      "text/html": [
       "<div>\n",
       "<style scoped>\n",
       "    .dataframe tbody tr th:only-of-type {\n",
       "        vertical-align: middle;\n",
       "    }\n",
       "\n",
       "    .dataframe tbody tr th {\n",
       "        vertical-align: top;\n",
       "    }\n",
       "\n",
       "    .dataframe thead th {\n",
       "        text-align: right;\n",
       "    }\n",
       "</style>\n",
       "<table border=\"1\" class=\"dataframe\">\n",
       "  <thead>\n",
       "    <tr style=\"text-align: right;\">\n",
       "      <th></th>\n",
       "      <th>user</th>\n",
       "      <th>check_in_time</th>\n",
       "      <th>latitude</th>\n",
       "      <th>longitude</th>\n",
       "      <th>location_id</th>\n",
       "      <th>counts</th>\n",
       "    </tr>\n",
       "  </thead>\n",
       "  <tbody>\n",
       "    <tr>\n",
       "      <th>0</th>\n",
       "      <td>0</td>\n",
       "      <td>2010-10-19T23:55:27Z</td>\n",
       "      <td>30.235909</td>\n",
       "      <td>-97.795140</td>\n",
       "      <td>22847</td>\n",
       "      <td>225</td>\n",
       "    </tr>\n",
       "    <tr>\n",
       "      <th>1</th>\n",
       "      <td>0</td>\n",
       "      <td>2010-10-18T22:17:43Z</td>\n",
       "      <td>30.269103</td>\n",
       "      <td>-97.749395</td>\n",
       "      <td>420315</td>\n",
       "      <td>225</td>\n",
       "    </tr>\n",
       "    <tr>\n",
       "      <th>2</th>\n",
       "      <td>0</td>\n",
       "      <td>2010-10-17T23:42:03Z</td>\n",
       "      <td>30.255731</td>\n",
       "      <td>-97.763386</td>\n",
       "      <td>316637</td>\n",
       "      <td>225</td>\n",
       "    </tr>\n",
       "    <tr>\n",
       "      <th>3</th>\n",
       "      <td>0</td>\n",
       "      <td>2010-10-17T19:26:05Z</td>\n",
       "      <td>30.263418</td>\n",
       "      <td>-97.757597</td>\n",
       "      <td>16516</td>\n",
       "      <td>225</td>\n",
       "    </tr>\n",
       "    <tr>\n",
       "      <th>4</th>\n",
       "      <td>0</td>\n",
       "      <td>2010-10-16T18:50:42Z</td>\n",
       "      <td>30.274292</td>\n",
       "      <td>-97.740523</td>\n",
       "      <td>5535878</td>\n",
       "      <td>225</td>\n",
       "    </tr>\n",
       "  </tbody>\n",
       "</table>\n",
       "</div>"
      ],
      "text/plain": [
       "   user         check_in_time   latitude  longitude  location_id  counts\n",
       "0     0  2010-10-19T23:55:27Z  30.235909 -97.795140        22847     225\n",
       "1     0  2010-10-18T22:17:43Z  30.269103 -97.749395       420315     225\n",
       "2     0  2010-10-17T23:42:03Z  30.255731 -97.763386       316637     225\n",
       "3     0  2010-10-17T19:26:05Z  30.263418 -97.757597        16516     225\n",
       "4     0  2010-10-16T18:50:42Z  30.274292 -97.740523      5535878     225"
      ]
     },
     "execution_count": 47,
     "metadata": {},
     "output_type": "execute_result"
    }
   ],
   "source": [
    "df = df.merge(df_user_counts, on=\"user\")\n",
    "df.head()"
   ]
  },
  {
   "cell_type": "code",
   "execution_count": 48,
   "id": "cfebf173",
   "metadata": {},
   "outputs": [
    {
     "data": {
      "text/html": [
       "<div>\n",
       "<style scoped>\n",
       "    .dataframe tbody tr th:only-of-type {\n",
       "        vertical-align: middle;\n",
       "    }\n",
       "\n",
       "    .dataframe tbody tr th {\n",
       "        vertical-align: top;\n",
       "    }\n",
       "\n",
       "    .dataframe thead th {\n",
       "        text-align: right;\n",
       "    }\n",
       "</style>\n",
       "<table border=\"1\" class=\"dataframe\">\n",
       "  <thead>\n",
       "    <tr style=\"text-align: right;\">\n",
       "      <th></th>\n",
       "      <th>user</th>\n",
       "      <th>check_in_time</th>\n",
       "      <th>latitude</th>\n",
       "      <th>longitude</th>\n",
       "      <th>location_id</th>\n",
       "      <th>counts</th>\n",
       "    </tr>\n",
       "  </thead>\n",
       "  <tbody>\n",
       "    <tr>\n",
       "      <th>0</th>\n",
       "      <td>5479</td>\n",
       "      <td>2010-10-03T16:10:09Z</td>\n",
       "      <td>51.924049</td>\n",
       "      <td>4.470105</td>\n",
       "      <td>332428</td>\n",
       "      <td>1693</td>\n",
       "    </tr>\n",
       "    <tr>\n",
       "      <th>1</th>\n",
       "      <td>39612</td>\n",
       "      <td>2010-02-21T20:36:02Z</td>\n",
       "      <td>40.763861</td>\n",
       "      <td>-73.972932</td>\n",
       "      <td>12535</td>\n",
       "      <td>1825</td>\n",
       "    </tr>\n",
       "    <tr>\n",
       "      <th>2</th>\n",
       "      <td>2</td>\n",
       "      <td>2010-09-21T02:33:01Z</td>\n",
       "      <td>34.089709</td>\n",
       "      <td>-118.268309</td>\n",
       "      <td>167337</td>\n",
       "      <td>2100</td>\n",
       "    </tr>\n",
       "    <tr>\n",
       "      <th>3</th>\n",
       "      <td>3384</td>\n",
       "      <td>2010-09-04T20:13:41Z</td>\n",
       "      <td>47.667950</td>\n",
       "      <td>-122.313285</td>\n",
       "      <td>1049172</td>\n",
       "      <td>1950</td>\n",
       "    </tr>\n",
       "    <tr>\n",
       "      <th>4</th>\n",
       "      <td>1201</td>\n",
       "      <td>2010-10-20T20:08:59Z</td>\n",
       "      <td>30.274481</td>\n",
       "      <td>-97.739068</td>\n",
       "      <td>898204</td>\n",
       "      <td>1825</td>\n",
       "    </tr>\n",
       "  </tbody>\n",
       "</table>\n",
       "</div>"
      ],
      "text/plain": [
       "    user         check_in_time   latitude   longitude  location_id  counts\n",
       "0   5479  2010-10-03T16:10:09Z  51.924049    4.470105       332428    1693\n",
       "1  39612  2010-02-21T20:36:02Z  40.763861  -73.972932        12535    1825\n",
       "2      2  2010-09-21T02:33:01Z  34.089709 -118.268309       167337    2100\n",
       "3   3384  2010-09-04T20:13:41Z  47.667950 -122.313285      1049172    1950\n",
       "4   1201  2010-10-20T20:08:59Z  30.274481  -97.739068       898204    1825"
      ]
     },
     "execution_count": 48,
     "metadata": {},
     "output_type": "execute_result"
    }
   ],
   "source": [
    "df_sample = df.sample(\n",
    "    n= SAMPLE_SIZE, \n",
    "    random_state=1, \n",
    "    ignore_index=True,\n",
    "    weights=\"counts\"\n",
    ")\n",
    "df_sample.head()"
   ]
  },
  {
   "cell_type": "markdown",
   "id": "170c166d",
   "metadata": {},
   "source": [
    "Looks good. Now, a quick bit of checking..."
   ]
  },
  {
   "cell_type": "code",
   "execution_count": 49,
   "id": "3d8be58f",
   "metadata": {},
   "outputs": [
    {
     "name": "stdout",
     "output_type": "stream",
     "text": [
      "Number of NaN vals in 'user': 0\n",
      "Number of NaN vals in 'check_in_time': 0\n",
      "Number of NaN vals in 'latitude': 0\n",
      "Number of NaN vals in 'longitude': 0\n",
      "Number of NaN vals in 'location_id': 0\n",
      "Number of NaN vals in 'counts': 0\n"
     ]
    }
   ],
   "source": [
    "for col in df_sample.columns.values:\n",
    "    print(f\"Number of NaN vals in '{col}': {df_sample[col].isna().sum()}\")"
   ]
  },
  {
   "cell_type": "code",
   "execution_count": 50,
   "id": "739020c1",
   "metadata": {},
   "outputs": [
    {
     "name": "stdout",
     "output_type": "stream",
     "text": [
      "Number of unique vals in 'user': 1366\n",
      "Number of unique vals in 'location_id': 1969\n"
     ]
    }
   ],
   "source": [
    "for col in [\"user\", \"location_id\"]:\n",
    "    print(f\"Number of unique vals in '{col}': {len(df_sample[col].unique())}\")"
   ]
  },
  {
   "cell_type": "markdown",
   "id": "4f73a347",
   "metadata": {},
   "source": [
    "So, there are a little over half as many users as there are rows, and nearly all the locations are unique (not ideal, but the level of effort to improve this isn't worth the gain for a relatively quick test)"
   ]
  },
  {
   "cell_type": "markdown",
   "id": "f1cb80bf",
   "metadata": {},
   "source": [
    "---\n",
    "\n",
    "## Create users and normalise data sources\n",
    "\n",
    "The next step is to add a bit of richness to the user IDs, by creating a set of dummy users (that will be in their own table). We'll do this with the [randomuser package](https://pypi.org/project/randomuser/), which in turn uses the [randomuser.me](https://randomuser.me/) API"
   ]
  },
  {
   "cell_type": "code",
   "execution_count": 55,
   "id": "a9a2bc13",
   "metadata": {},
   "outputs": [],
   "source": [
    "user_list = RandomUser.generate_users(len(df_sample[\"user\"].unique()))"
   ]
  },
  {
   "cell_type": "markdown",
   "id": "a2d248e1",
   "metadata": {},
   "source": [
    "RandomUser contains a series of getter methods, to retrieve the info for each object. Here's an example:"
   ]
  },
  {
   "cell_type": "code",
   "execution_count": 65,
   "id": "62f22c6f",
   "metadata": {},
   "outputs": [
    {
     "data": {
      "text/plain": [
       "'DE'"
      ]
     },
     "execution_count": 65,
     "metadata": {},
     "output_type": "execute_result"
    }
   ],
   "source": [
    "user_list[1].get_nat()"
   ]
  },
  {
   "cell_type": "markdown",
   "id": "cb150efb",
   "metadata": {},
   "source": [
    "We want a dataframe of various properties from each object. Two very obvious ways of constructing this:\n",
    "- When the pd.DataFrame constructor is called, using a series of list comprehensions (iterate through the list of objects multiple times)\n",
    "- Iterate through the list of users once, create a series of lists of the properties required, then feed these to the df constructor.\n",
    "\n",
    "Tbh, it probably makes little difference with such a short list- however, have gone for the 2nd option."
   ]
  },
  {
   "cell_type": "code",
   "execution_count": 66,
   "id": "5d141700",
   "metadata": {},
   "outputs": [
    {
     "data": {
      "text/html": [
       "<div>\n",
       "<style scoped>\n",
       "    .dataframe tbody tr th:only-of-type {\n",
       "        vertical-align: middle;\n",
       "    }\n",
       "\n",
       "    .dataframe tbody tr th {\n",
       "        vertical-align: top;\n",
       "    }\n",
       "\n",
       "    .dataframe thead th {\n",
       "        text-align: right;\n",
       "    }\n",
       "</style>\n",
       "<table border=\"1\" class=\"dataframe\">\n",
       "  <thead>\n",
       "    <tr style=\"text-align: right;\">\n",
       "      <th></th>\n",
       "      <th>id</th>\n",
       "      <th>first_name</th>\n",
       "      <th>last_name</th>\n",
       "      <th>dob</th>\n",
       "      <th>nationality</th>\n",
       "      <th>gender</th>\n",
       "      <th>email</th>\n",
       "    </tr>\n",
       "  </thead>\n",
       "  <tbody>\n",
       "    <tr>\n",
       "      <th>0</th>\n",
       "      <td>5479</td>\n",
       "      <td>Daniel</td>\n",
       "      <td>Ruiz</td>\n",
       "      <td>1974-06-27T15:07:58.533Z</td>\n",
       "      <td>ES</td>\n",
       "      <td>male</td>\n",
       "      <td>daniel.ruiz@example.com</td>\n",
       "    </tr>\n",
       "    <tr>\n",
       "      <th>1</th>\n",
       "      <td>39612</td>\n",
       "      <td>Magarete</td>\n",
       "      <td>Schönherr</td>\n",
       "      <td>1991-09-23T13:41:58.704Z</td>\n",
       "      <td>DE</td>\n",
       "      <td>female</td>\n",
       "      <td>magarete.schonherr@example.com</td>\n",
       "    </tr>\n",
       "    <tr>\n",
       "      <th>2</th>\n",
       "      <td>2</td>\n",
       "      <td>Karla</td>\n",
       "      <td>Holvik</td>\n",
       "      <td>1979-11-21T02:50:23.636Z</td>\n",
       "      <td>NO</td>\n",
       "      <td>female</td>\n",
       "      <td>karla.holvik@example.com</td>\n",
       "    </tr>\n",
       "    <tr>\n",
       "      <th>3</th>\n",
       "      <td>3384</td>\n",
       "      <td>Esperanza</td>\n",
       "      <td>Fernandez</td>\n",
       "      <td>1984-12-06T16:23:21.003Z</td>\n",
       "      <td>ES</td>\n",
       "      <td>female</td>\n",
       "      <td>esperanza.fernandez@example.com</td>\n",
       "    </tr>\n",
       "    <tr>\n",
       "      <th>4</th>\n",
       "      <td>1201</td>\n",
       "      <td>Jimmie</td>\n",
       "      <td>Williams</td>\n",
       "      <td>1979-12-12T21:16:29.980Z</td>\n",
       "      <td>US</td>\n",
       "      <td>male</td>\n",
       "      <td>jimmie.williams@example.com</td>\n",
       "    </tr>\n",
       "  </tbody>\n",
       "</table>\n",
       "</div>"
      ],
      "text/plain": [
       "      id first_name  last_name                       dob nationality  gender  \\\n",
       "0   5479     Daniel       Ruiz  1974-06-27T15:07:58.533Z          ES    male   \n",
       "1  39612   Magarete  Schönherr  1991-09-23T13:41:58.704Z          DE  female   \n",
       "2      2      Karla     Holvik  1979-11-21T02:50:23.636Z          NO  female   \n",
       "3   3384  Esperanza  Fernandez  1984-12-06T16:23:21.003Z          ES  female   \n",
       "4   1201     Jimmie   Williams  1979-12-12T21:16:29.980Z          US    male   \n",
       "\n",
       "                             email  \n",
       "0          daniel.ruiz@example.com  \n",
       "1   magarete.schonherr@example.com  \n",
       "2         karla.holvik@example.com  \n",
       "3  esperanza.fernandez@example.com  \n",
       "4      jimmie.williams@example.com  "
      ]
     },
     "execution_count": 66,
     "metadata": {},
     "output_type": "execute_result"
    }
   ],
   "source": [
    "first_names, last_names, dob, nationality, gender, email = [], [], [], [], [], []\n",
    "for user in user_list:\n",
    "    first_names.append(user.get_first_name()),\n",
    "    last_names.append(user.get_last_name()),\n",
    "    dob.append(user.get_dob()),\n",
    "    nationality.append(user.get_nat()),\n",
    "    gender.append(user.get_gender()),\n",
    "    email.append(user.get_email())\n",
    "\n",
    "users_df = pd.DataFrame({\n",
    "    \"id\": df_sample[\"user\"].unique().tolist(),\n",
    "    \"first_name\": first_names,\n",
    "    \"last_name\": last_names,\n",
    "    \"dob\": dob,\n",
    "    \"nationality\": nationality,\n",
    "    \"gender\": gender,\n",
    "    \"email\": email\n",
    "})\n",
    "\n",
    "users_df.head()"
   ]
  },
  {
   "cell_type": "code",
   "execution_count": null,
   "id": "42145c05",
   "metadata": {},
   "outputs": [],
   "source": []
  },
  {
   "cell_type": "code",
   "execution_count": null,
   "id": "72bccf5d",
   "metadata": {},
   "outputs": [],
   "source": []
  },
  {
   "cell_type": "code",
   "execution_count": null,
   "id": "3a1bc58d",
   "metadata": {},
   "outputs": [],
   "source": []
  },
  {
   "cell_type": "code",
   "execution_count": null,
   "id": "f70f00a4",
   "metadata": {},
   "outputs": [],
   "source": []
  }
 ],
 "metadata": {
  "kernelspec": {
   "display_name": "Python 3 (ipykernel)",
   "language": "python",
   "name": "python3"
  },
  "language_info": {
   "codemirror_mode": {
    "name": "ipython",
    "version": 3
   },
   "file_extension": ".py",
   "mimetype": "text/x-python",
   "name": "python",
   "nbconvert_exporter": "python",
   "pygments_lexer": "ipython3",
   "version": "3.10.9"
  }
 },
 "nbformat": 4,
 "nbformat_minor": 5
}
