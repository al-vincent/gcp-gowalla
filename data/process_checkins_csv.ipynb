{
 "cells": [
  {
   "cell_type": "markdown",
   "id": "60cbc267",
   "metadata": {},
   "source": [
    "# Processing Gowalla Checkins\n",
    "\n",
    "This notebook processes the [original Gowalla checkins data](https://snap.stanford.edu/data/loc-gowalla.html) into a database-style format, with a few normalised tables (augmented with some freely-available data).\n",
    "\n",
    "It represents the first step in a wider project, to create a pipeline from a PostgreSQL database to BigQuery, that automatically triggers updates and displays some simple dashboards in Looker."
   ]
  },
  {
   "cell_type": "markdown",
   "id": "e04287ac",
   "metadata": {},
   "source": [
    "---\n",
    "\n",
    "## Setup\n",
    "\n",
    "Import packages and other basic setup"
   ]
  },
  {
   "cell_type": "code",
   "execution_count": 1,
   "id": "2dfbb835",
   "metadata": {},
   "outputs": [],
   "source": [
    "## Packages and modules\n",
    "\n",
    "# standard library\n",
    "from os import path\n",
    "from time import sleep\n",
    "\n",
    "# third-party libs\n",
    "from geopy.geocoders import Nominatim\n",
    "from geopy.extra.rate_limiter import RateLimiter\n",
    "import pandas as pd\n",
    "from randomuser import RandomUser"
   ]
  },
  {
   "cell_type": "code",
   "execution_count": 40,
   "id": "ec273420",
   "metadata": {},
   "outputs": [],
   "source": [
    "## Constants\n",
    "\n",
    "# path to raw Gowalla data file\n",
    "RAW_DATA = path.join(\"raw\", \"loc-gowalla_totalCheckins.txt.gz\")\n",
    "# path to processed data files\n",
    "PROCESSED_DATA = \"processed\"\n",
    "# number of checkins to include in sample\n",
    "SAMPLE_SIZE = 2000"
   ]
  },
  {
   "cell_type": "markdown",
   "id": "88e10a57",
   "metadata": {},
   "source": [
    "---\n",
    "\n",
    "## Read data from file, and sample\n",
    "\n",
    "Pandas has no issues reading the data from a .gz archive, so can just load the file directly. However, a couple of gotchas:\n",
    "- There are no headers in the file, just the raw data;\n",
    "- The delimiters used are tabs (i.e. `\\t`), not commas."
   ]
  },
  {
   "cell_type": "code",
   "execution_count": 3,
   "id": "f171b1a8",
   "metadata": {},
   "outputs": [
    {
     "data": {
      "text/html": [
       "<div>\n",
       "<style scoped>\n",
       "    .dataframe tbody tr th:only-of-type {\n",
       "        vertical-align: middle;\n",
       "    }\n",
       "\n",
       "    .dataframe tbody tr th {\n",
       "        vertical-align: top;\n",
       "    }\n",
       "\n",
       "    .dataframe thead th {\n",
       "        text-align: right;\n",
       "    }\n",
       "</style>\n",
       "<table border=\"1\" class=\"dataframe\">\n",
       "  <thead>\n",
       "    <tr style=\"text-align: right;\">\n",
       "      <th></th>\n",
       "      <th>user</th>\n",
       "      <th>check_in_time</th>\n",
       "      <th>latitude</th>\n",
       "      <th>longitude</th>\n",
       "      <th>location_id</th>\n",
       "    </tr>\n",
       "  </thead>\n",
       "  <tbody>\n",
       "    <tr>\n",
       "      <th>0</th>\n",
       "      <td>0</td>\n",
       "      <td>2010-10-19T23:55:27Z</td>\n",
       "      <td>30.235909</td>\n",
       "      <td>-97.795140</td>\n",
       "      <td>22847</td>\n",
       "    </tr>\n",
       "    <tr>\n",
       "      <th>1</th>\n",
       "      <td>0</td>\n",
       "      <td>2010-10-18T22:17:43Z</td>\n",
       "      <td>30.269103</td>\n",
       "      <td>-97.749395</td>\n",
       "      <td>420315</td>\n",
       "    </tr>\n",
       "    <tr>\n",
       "      <th>2</th>\n",
       "      <td>0</td>\n",
       "      <td>2010-10-17T23:42:03Z</td>\n",
       "      <td>30.255731</td>\n",
       "      <td>-97.763386</td>\n",
       "      <td>316637</td>\n",
       "    </tr>\n",
       "    <tr>\n",
       "      <th>3</th>\n",
       "      <td>0</td>\n",
       "      <td>2010-10-17T19:26:05Z</td>\n",
       "      <td>30.263418</td>\n",
       "      <td>-97.757597</td>\n",
       "      <td>16516</td>\n",
       "    </tr>\n",
       "    <tr>\n",
       "      <th>4</th>\n",
       "      <td>0</td>\n",
       "      <td>2010-10-16T18:50:42Z</td>\n",
       "      <td>30.274292</td>\n",
       "      <td>-97.740523</td>\n",
       "      <td>5535878</td>\n",
       "    </tr>\n",
       "  </tbody>\n",
       "</table>\n",
       "</div>"
      ],
      "text/plain": [
       "   user         check_in_time   latitude  longitude  location_id\n",
       "0     0  2010-10-19T23:55:27Z  30.235909 -97.795140        22847\n",
       "1     0  2010-10-18T22:17:43Z  30.269103 -97.749395       420315\n",
       "2     0  2010-10-17T23:42:03Z  30.255731 -97.763386       316637\n",
       "3     0  2010-10-17T19:26:05Z  30.263418 -97.757597        16516\n",
       "4     0  2010-10-16T18:50:42Z  30.274292 -97.740523      5535878"
      ]
     },
     "execution_count": 3,
     "metadata": {},
     "output_type": "execute_result"
    }
   ],
   "source": [
    "df = pd.read_csv(\n",
    "    RAW_DATA,\n",
    "    header=None,\n",
    "    names=[\"user\", \"check_in_time\", \"latitude\", \"longitude\", \"location_id\"],\n",
    "    delimiter=\"\\t\"\n",
    ")\n",
    "df.head()"
   ]
  },
  {
   "cell_type": "markdown",
   "id": "3a5cf24b",
   "metadata": {},
   "source": [
    "That's what we're after. Let's check a few stats..."
   ]
  },
  {
   "cell_type": "code",
   "execution_count": 4,
   "id": "82b69e77",
   "metadata": {},
   "outputs": [
    {
     "name": "stdout",
     "output_type": "stream",
     "text": [
      "Length of df: 6442892\n"
     ]
    }
   ],
   "source": [
    "print(f\"Length of df: {len(df)}\")"
   ]
  },
  {
   "cell_type": "code",
   "execution_count": 5,
   "id": "2f3e104f",
   "metadata": {},
   "outputs": [
    {
     "name": "stdout",
     "output_type": "stream",
     "text": [
      "Number of unique vals in 'user': 107092\n",
      "Number of unique vals in 'location_id': 1280969\n"
     ]
    }
   ],
   "source": [
    "for col in [\"user\", \"location_id\"]:\n",
    "    print(f\"Number of unique vals in '{col}': {len(df[col].unique())}\")"
   ]
  },
  {
   "cell_type": "code",
   "execution_count": 6,
   "id": "8ff557e7",
   "metadata": {},
   "outputs": [
    {
     "data": {
      "text/plain": [
       "0.016621728254951347"
      ]
     },
     "execution_count": 6,
     "metadata": {},
     "output_type": "execute_result"
    }
   ],
   "source": [
    "107092/6442892"
   ]
  },
  {
   "cell_type": "markdown",
   "id": "79cc1420",
   "metadata": {},
   "source": [
    "So, there are relatively few unique users, but quite a lot of unique locations. Not good or bad, exactly - just notable.\n",
    "\n",
    "---"
   ]
  },
  {
   "cell_type": "markdown",
   "id": "988b1f73",
   "metadata": {},
   "source": [
    "Now, get a randomly-selected sample of these rows (we don't need / want to work with all 6.4m rows for this). \n",
    "\n",
    "To reduce the overhead a bit when it comes to building the db, we'll get the number of times each user appears, add this to the original df, and weight the users by this value (so that users with more checkins are more likely to appear in the table)"
   ]
  },
  {
   "cell_type": "code",
   "execution_count": 7,
   "id": "32057ce3",
   "metadata": {},
   "outputs": [
    {
     "data": {
      "text/html": [
       "<div>\n",
       "<style scoped>\n",
       "    .dataframe tbody tr th:only-of-type {\n",
       "        vertical-align: middle;\n",
       "    }\n",
       "\n",
       "    .dataframe tbody tr th {\n",
       "        vertical-align: top;\n",
       "    }\n",
       "\n",
       "    .dataframe thead th {\n",
       "        text-align: right;\n",
       "    }\n",
       "</style>\n",
       "<table border=\"1\" class=\"dataframe\">\n",
       "  <thead>\n",
       "    <tr style=\"text-align: right;\">\n",
       "      <th></th>\n",
       "      <th>user</th>\n",
       "      <th>counts</th>\n",
       "    </tr>\n",
       "  </thead>\n",
       "  <tbody>\n",
       "    <tr>\n",
       "      <th>0</th>\n",
       "      <td>10971</td>\n",
       "      <td>2175</td>\n",
       "    </tr>\n",
       "    <tr>\n",
       "      <th>1</th>\n",
       "      <td>776</td>\n",
       "      <td>2175</td>\n",
       "    </tr>\n",
       "    <tr>\n",
       "      <th>2</th>\n",
       "      <td>18931</td>\n",
       "      <td>2150</td>\n",
       "    </tr>\n",
       "    <tr>\n",
       "      <th>3</th>\n",
       "      <td>49918</td>\n",
       "      <td>2125</td>\n",
       "    </tr>\n",
       "    <tr>\n",
       "      <th>4</th>\n",
       "      <td>620</td>\n",
       "      <td>2125</td>\n",
       "    </tr>\n",
       "  </tbody>\n",
       "</table>\n",
       "</div>"
      ],
      "text/plain": [
       "    user  counts\n",
       "0  10971    2175\n",
       "1    776    2175\n",
       "2  18931    2150\n",
       "3  49918    2125\n",
       "4    620    2125"
      ]
     },
     "execution_count": 7,
     "metadata": {},
     "output_type": "execute_result"
    }
   ],
   "source": [
    "df_user_counts = df[\"user\"].value_counts().rename_axis(\"user\").reset_index(name=\"counts\")\n",
    "df_user_counts.head()"
   ]
  },
  {
   "cell_type": "code",
   "execution_count": 8,
   "id": "26072de6",
   "metadata": {},
   "outputs": [
    {
     "data": {
      "text/html": [
       "<div>\n",
       "<style scoped>\n",
       "    .dataframe tbody tr th:only-of-type {\n",
       "        vertical-align: middle;\n",
       "    }\n",
       "\n",
       "    .dataframe tbody tr th {\n",
       "        vertical-align: top;\n",
       "    }\n",
       "\n",
       "    .dataframe thead th {\n",
       "        text-align: right;\n",
       "    }\n",
       "</style>\n",
       "<table border=\"1\" class=\"dataframe\">\n",
       "  <thead>\n",
       "    <tr style=\"text-align: right;\">\n",
       "      <th></th>\n",
       "      <th>user</th>\n",
       "      <th>check_in_time</th>\n",
       "      <th>latitude</th>\n",
       "      <th>longitude</th>\n",
       "      <th>location_id</th>\n",
       "      <th>counts</th>\n",
       "    </tr>\n",
       "  </thead>\n",
       "  <tbody>\n",
       "    <tr>\n",
       "      <th>0</th>\n",
       "      <td>0</td>\n",
       "      <td>2010-10-19T23:55:27Z</td>\n",
       "      <td>30.235909</td>\n",
       "      <td>-97.795140</td>\n",
       "      <td>22847</td>\n",
       "      <td>225</td>\n",
       "    </tr>\n",
       "    <tr>\n",
       "      <th>1</th>\n",
       "      <td>0</td>\n",
       "      <td>2010-10-18T22:17:43Z</td>\n",
       "      <td>30.269103</td>\n",
       "      <td>-97.749395</td>\n",
       "      <td>420315</td>\n",
       "      <td>225</td>\n",
       "    </tr>\n",
       "    <tr>\n",
       "      <th>2</th>\n",
       "      <td>0</td>\n",
       "      <td>2010-10-17T23:42:03Z</td>\n",
       "      <td>30.255731</td>\n",
       "      <td>-97.763386</td>\n",
       "      <td>316637</td>\n",
       "      <td>225</td>\n",
       "    </tr>\n",
       "    <tr>\n",
       "      <th>3</th>\n",
       "      <td>0</td>\n",
       "      <td>2010-10-17T19:26:05Z</td>\n",
       "      <td>30.263418</td>\n",
       "      <td>-97.757597</td>\n",
       "      <td>16516</td>\n",
       "      <td>225</td>\n",
       "    </tr>\n",
       "    <tr>\n",
       "      <th>4</th>\n",
       "      <td>0</td>\n",
       "      <td>2010-10-16T18:50:42Z</td>\n",
       "      <td>30.274292</td>\n",
       "      <td>-97.740523</td>\n",
       "      <td>5535878</td>\n",
       "      <td>225</td>\n",
       "    </tr>\n",
       "  </tbody>\n",
       "</table>\n",
       "</div>"
      ],
      "text/plain": [
       "   user         check_in_time   latitude  longitude  location_id  counts\n",
       "0     0  2010-10-19T23:55:27Z  30.235909 -97.795140        22847     225\n",
       "1     0  2010-10-18T22:17:43Z  30.269103 -97.749395       420315     225\n",
       "2     0  2010-10-17T23:42:03Z  30.255731 -97.763386       316637     225\n",
       "3     0  2010-10-17T19:26:05Z  30.263418 -97.757597        16516     225\n",
       "4     0  2010-10-16T18:50:42Z  30.274292 -97.740523      5535878     225"
      ]
     },
     "execution_count": 8,
     "metadata": {},
     "output_type": "execute_result"
    }
   ],
   "source": [
    "df = df.merge(df_user_counts, on=\"user\")\n",
    "df.head()"
   ]
  },
  {
   "cell_type": "code",
   "execution_count": 9,
   "id": "418398c5",
   "metadata": {},
   "outputs": [
    {
     "data": {
      "text/html": [
       "<div>\n",
       "<style scoped>\n",
       "    .dataframe tbody tr th:only-of-type {\n",
       "        vertical-align: middle;\n",
       "    }\n",
       "\n",
       "    .dataframe tbody tr th {\n",
       "        vertical-align: top;\n",
       "    }\n",
       "\n",
       "    .dataframe thead th {\n",
       "        text-align: right;\n",
       "    }\n",
       "</style>\n",
       "<table border=\"1\" class=\"dataframe\">\n",
       "  <thead>\n",
       "    <tr style=\"text-align: right;\">\n",
       "      <th></th>\n",
       "      <th>user</th>\n",
       "      <th>check_in_time</th>\n",
       "      <th>latitude</th>\n",
       "      <th>longitude</th>\n",
       "      <th>location_id</th>\n",
       "      <th>counts</th>\n",
       "    </tr>\n",
       "  </thead>\n",
       "  <tbody>\n",
       "    <tr>\n",
       "      <th>0</th>\n",
       "      <td>5479</td>\n",
       "      <td>2010-10-03T16:10:09Z</td>\n",
       "      <td>51.924049</td>\n",
       "      <td>4.470105</td>\n",
       "      <td>332428</td>\n",
       "      <td>1693</td>\n",
       "    </tr>\n",
       "    <tr>\n",
       "      <th>1</th>\n",
       "      <td>39612</td>\n",
       "      <td>2010-02-21T20:36:02Z</td>\n",
       "      <td>40.763861</td>\n",
       "      <td>-73.972932</td>\n",
       "      <td>12535</td>\n",
       "      <td>1825</td>\n",
       "    </tr>\n",
       "    <tr>\n",
       "      <th>2</th>\n",
       "      <td>2</td>\n",
       "      <td>2010-09-21T02:33:01Z</td>\n",
       "      <td>34.089709</td>\n",
       "      <td>-118.268309</td>\n",
       "      <td>167337</td>\n",
       "      <td>2100</td>\n",
       "    </tr>\n",
       "    <tr>\n",
       "      <th>3</th>\n",
       "      <td>3384</td>\n",
       "      <td>2010-09-04T20:13:41Z</td>\n",
       "      <td>47.667950</td>\n",
       "      <td>-122.313285</td>\n",
       "      <td>1049172</td>\n",
       "      <td>1950</td>\n",
       "    </tr>\n",
       "    <tr>\n",
       "      <th>4</th>\n",
       "      <td>1201</td>\n",
       "      <td>2010-10-20T20:08:59Z</td>\n",
       "      <td>30.274481</td>\n",
       "      <td>-97.739068</td>\n",
       "      <td>898204</td>\n",
       "      <td>1825</td>\n",
       "    </tr>\n",
       "  </tbody>\n",
       "</table>\n",
       "</div>"
      ],
      "text/plain": [
       "    user         check_in_time   latitude   longitude  location_id  counts\n",
       "0   5479  2010-10-03T16:10:09Z  51.924049    4.470105       332428    1693\n",
       "1  39612  2010-02-21T20:36:02Z  40.763861  -73.972932        12535    1825\n",
       "2      2  2010-09-21T02:33:01Z  34.089709 -118.268309       167337    2100\n",
       "3   3384  2010-09-04T20:13:41Z  47.667950 -122.313285      1049172    1950\n",
       "4   1201  2010-10-20T20:08:59Z  30.274481  -97.739068       898204    1825"
      ]
     },
     "execution_count": 9,
     "metadata": {},
     "output_type": "execute_result"
    }
   ],
   "source": [
    "df_sample = df.sample(\n",
    "    n= SAMPLE_SIZE, \n",
    "    random_state=1, \n",
    "    ignore_index=True,\n",
    "    weights=\"counts\"\n",
    ")\n",
    "df_sample.head()"
   ]
  },
  {
   "cell_type": "markdown",
   "id": "4e8d66fd",
   "metadata": {},
   "source": [
    "Looks good. Now, a quick bit of checking..."
   ]
  },
  {
   "cell_type": "code",
   "execution_count": 10,
   "id": "b00dff78",
   "metadata": {},
   "outputs": [
    {
     "name": "stdout",
     "output_type": "stream",
     "text": [
      "Number of NaN vals in 'user': 0\n",
      "Number of NaN vals in 'check_in_time': 0\n",
      "Number of NaN vals in 'latitude': 0\n",
      "Number of NaN vals in 'longitude': 0\n",
      "Number of NaN vals in 'location_id': 0\n",
      "Number of NaN vals in 'counts': 0\n"
     ]
    }
   ],
   "source": [
    "for col in df_sample.columns.values:\n",
    "    print(f\"Number of NaN vals in '{col}': {df_sample[col].isna().sum()}\")"
   ]
  },
  {
   "cell_type": "code",
   "execution_count": 11,
   "id": "e99903a2",
   "metadata": {},
   "outputs": [
    {
     "name": "stdout",
     "output_type": "stream",
     "text": [
      "Number of unique vals in 'user': 1366\n",
      "Number of unique vals in 'location_id': 1969\n"
     ]
    }
   ],
   "source": [
    "for col in [\"user\", \"location_id\"]:\n",
    "    print(f\"Number of unique vals in '{col}': {len(df_sample[col].unique())}\")"
   ]
  },
  {
   "cell_type": "markdown",
   "id": "57b802fe",
   "metadata": {},
   "source": [
    "So, there are a little over half as many users as there are rows, and nearly all the locations are unique (not ideal, but the level of effort to improve this isn't worth the gain for a relatively quick test)"
   ]
  },
  {
   "cell_type": "markdown",
   "id": "64eb5974",
   "metadata": {},
   "source": [
    "---\n",
    "\n",
    "## Enrich and normalise data\n",
    "\n",
    "The next step is to add a bit of richness: \n",
    "- to the user IDs, by creating a set of dummy users that will be in their own table;\n",
    "- to the locations, by getting some info about the actual physical locations that they correspond to.\n",
    "\n",
    "We'll create dummy users with the [randomuser package](https://pypi.org/project/randomuser/), which in turn uses the [randomuser.me](https://randomuser.me/) API. We'll get the geo information using [GeoPy](https://geopy.readthedocs.io/en/stable/), which provides an interface to a series of services like Google Maps, Bing Maps and OpenStreetMap Nominatim."
   ]
  },
  {
   "cell_type": "code",
   "execution_count": 12,
   "id": "4d3fa8df",
   "metadata": {},
   "outputs": [],
   "source": [
    "user_list = RandomUser.generate_users(len(df_sample[\"user\"].unique()))"
   ]
  },
  {
   "cell_type": "markdown",
   "id": "b1c649b5",
   "metadata": {},
   "source": [
    "RandomUser contains a series of getter methods, to retrieve the info for each object. Here's an example:"
   ]
  },
  {
   "cell_type": "code",
   "execution_count": 13,
   "id": "f719eacd",
   "metadata": {},
   "outputs": [
    {
     "data": {
      "text/plain": [
       "'NO'"
      ]
     },
     "execution_count": 13,
     "metadata": {},
     "output_type": "execute_result"
    }
   ],
   "source": [
    "user_list[1].get_nat()"
   ]
  },
  {
   "cell_type": "markdown",
   "id": "e5b83e8f",
   "metadata": {},
   "source": [
    "We want a dataframe of various properties from each object. Two very obvious ways of constructing this:\n",
    "- When the pd.DataFrame constructor is called, using a series of list comprehensions (iterate through the list of objects multiple times)\n",
    "- Iterate through the list of users once, create a series of lists of the properties required, then feed these to the df constructor.\n",
    "\n",
    "Tbh, it probably makes little difference with such a short list- however, have gone for the 2nd option."
   ]
  },
  {
   "cell_type": "code",
   "execution_count": 14,
   "id": "10b53911",
   "metadata": {},
   "outputs": [
    {
     "data": {
      "text/html": [
       "<div>\n",
       "<style scoped>\n",
       "    .dataframe tbody tr th:only-of-type {\n",
       "        vertical-align: middle;\n",
       "    }\n",
       "\n",
       "    .dataframe tbody tr th {\n",
       "        vertical-align: top;\n",
       "    }\n",
       "\n",
       "    .dataframe thead th {\n",
       "        text-align: right;\n",
       "    }\n",
       "</style>\n",
       "<table border=\"1\" class=\"dataframe\">\n",
       "  <thead>\n",
       "    <tr style=\"text-align: right;\">\n",
       "      <th></th>\n",
       "      <th>id</th>\n",
       "      <th>first_name</th>\n",
       "      <th>last_name</th>\n",
       "      <th>dob</th>\n",
       "      <th>nationality</th>\n",
       "      <th>gender</th>\n",
       "      <th>email</th>\n",
       "    </tr>\n",
       "  </thead>\n",
       "  <tbody>\n",
       "    <tr>\n",
       "      <th>0</th>\n",
       "      <td>5479</td>\n",
       "      <td>Flavie</td>\n",
       "      <td>Marie</td>\n",
       "      <td>1987-05-15T04:40:11.787Z</td>\n",
       "      <td>FR</td>\n",
       "      <td>female</td>\n",
       "      <td>flavie.marie@example.com</td>\n",
       "    </tr>\n",
       "    <tr>\n",
       "      <th>1</th>\n",
       "      <td>39612</td>\n",
       "      <td>Torgeir</td>\n",
       "      <td>Granli</td>\n",
       "      <td>1961-12-17T01:23:44.691Z</td>\n",
       "      <td>NO</td>\n",
       "      <td>male</td>\n",
       "      <td>torgeir.granli@example.com</td>\n",
       "    </tr>\n",
       "    <tr>\n",
       "      <th>2</th>\n",
       "      <td>2</td>\n",
       "      <td>Thomas</td>\n",
       "      <td>Hart</td>\n",
       "      <td>1981-08-25T16:07:33.619Z</td>\n",
       "      <td>US</td>\n",
       "      <td>male</td>\n",
       "      <td>thomas.hart@example.com</td>\n",
       "    </tr>\n",
       "    <tr>\n",
       "      <th>3</th>\n",
       "      <td>3384</td>\n",
       "      <td>Ouail</td>\n",
       "      <td>Van Velthoven</td>\n",
       "      <td>1962-04-15T04:13:22.109Z</td>\n",
       "      <td>NL</td>\n",
       "      <td>male</td>\n",
       "      <td>ouail.vanvelthoven@example.com</td>\n",
       "    </tr>\n",
       "    <tr>\n",
       "      <th>4</th>\n",
       "      <td>1201</td>\n",
       "      <td>Blake</td>\n",
       "      <td>Ramirez</td>\n",
       "      <td>1975-02-16T20:03:54.801Z</td>\n",
       "      <td>GB</td>\n",
       "      <td>male</td>\n",
       "      <td>blake.ramirez@example.com</td>\n",
       "    </tr>\n",
       "  </tbody>\n",
       "</table>\n",
       "</div>"
      ],
      "text/plain": [
       "      id first_name      last_name                       dob nationality  \\\n",
       "0   5479     Flavie          Marie  1987-05-15T04:40:11.787Z          FR   \n",
       "1  39612    Torgeir         Granli  1961-12-17T01:23:44.691Z          NO   \n",
       "2      2     Thomas           Hart  1981-08-25T16:07:33.619Z          US   \n",
       "3   3384      Ouail  Van Velthoven  1962-04-15T04:13:22.109Z          NL   \n",
       "4   1201      Blake        Ramirez  1975-02-16T20:03:54.801Z          GB   \n",
       "\n",
       "   gender                           email  \n",
       "0  female        flavie.marie@example.com  \n",
       "1    male      torgeir.granli@example.com  \n",
       "2    male         thomas.hart@example.com  \n",
       "3    male  ouail.vanvelthoven@example.com  \n",
       "4    male       blake.ramirez@example.com  "
      ]
     },
     "execution_count": 14,
     "metadata": {},
     "output_type": "execute_result"
    }
   ],
   "source": [
    "first_names, last_names, dob, nationality, gender, email = [], [], [], [], [], []\n",
    "for user in user_list:\n",
    "    first_names.append(user.get_first_name()),\n",
    "    last_names.append(user.get_last_name()),\n",
    "    dob.append(user.get_dob()),\n",
    "    nationality.append(user.get_nat()),\n",
    "    gender.append(user.get_gender()),\n",
    "    email.append(user.get_email())\n",
    "\n",
    "users_df = pd.DataFrame({\n",
    "    \"id\": df_sample[\"user\"].unique().tolist(),\n",
    "    \"first_name\": first_names,\n",
    "    \"last_name\": last_names,\n",
    "    \"dob\": dob,\n",
    "    \"nationality\": nationality,\n",
    "    \"gender\": gender,\n",
    "    \"email\": email\n",
    "})\n",
    "\n",
    "users_df.head()"
   ]
  },
  {
   "cell_type": "markdown",
   "id": "9d69be17",
   "metadata": {},
   "source": [
    "Perfect (and super-fast too).  Now, to try the geo API, which will _not_ be as quick..."
   ]
  },
  {
   "cell_type": "code",
   "execution_count": 15,
   "id": "e1a97e5f",
   "metadata": {},
   "outputs": [],
   "source": [
    "geolocator = Nominatim(user_agent=\"gcp-testing\")"
   ]
  },
  {
   "cell_type": "code",
   "execution_count": 16,
   "id": "a58e818f",
   "metadata": {},
   "outputs": [],
   "source": [
    "geocode = RateLimiter(geolocator.geocode, min_delay_seconds=1) "
   ]
  },
  {
   "cell_type": "code",
   "execution_count": 19,
   "id": "f8efec97",
   "metadata": {},
   "outputs": [
    {
     "name": "stdout",
     "output_type": "stream",
     "text": [
      "Row 0 complete\n",
      "Row 100 complete\n",
      "Row 200 complete\n",
      "Row 300 complete\n",
      "Row 400 complete\n",
      "Row 500 complete\n",
      "Row 600 complete\n",
      "Row 700 complete\n",
      "Row 800 complete\n",
      "Row 900 complete\n",
      "Row 1000 complete\n",
      "Row 1100 complete\n",
      "Row 1200 complete\n",
      "Row 1300 complete\n",
      "Row 1400 complete\n",
      "Row 1500 complete\n",
      "Row 1600 complete\n",
      "Row 1700 complete\n",
      "Row 1800 complete\n",
      "Row 1900 complete\n"
     ]
    }
   ],
   "source": [
    "lat_lons = df_sample[[\"latitude\",\"longitude\"]].to_dict(\"records\")\n",
    "locs = []\n",
    "for i, row in enumerate(lat_lons):\n",
    "    try: \n",
    "        locs.append(geolocator.reverse((row[\"latitude\"], row[\"longitude\"])))\n",
    "        if i % 100 == 0:\n",
    "            print(f\"Row {i} complete\")\n",
    "        sleep(1)\n",
    "    except Exception as err:\n",
    "        print(f\"{err}, row {i}\")"
   ]
  },
  {
   "cell_type": "code",
   "execution_count": 20,
   "id": "3fe36f28",
   "metadata": {},
   "outputs": [
    {
     "data": {
      "text/plain": [
       "{'place_id': 298442772,\n",
       " 'licence': 'Data © OpenStreetMap contributors, ODbL 1.0. https://osm.org/copyright',\n",
       " 'osm_type': 'relation',\n",
       " 'osm_id': 6923245,\n",
       " 'lat': '51.9241229',\n",
       " 'lon': '4.4698094008364455',\n",
       " 'display_name': 'CS-Kwartier, Centrum, Rotterdam, Zuid-Holland, Nederland',\n",
       " 'address': {'neighbourhood': 'CS-Kwartier',\n",
       "  'suburb': 'Centrum',\n",
       "  'city': 'Rotterdam',\n",
       "  'municipality': 'Rotterdam',\n",
       "  'state': 'Zuid-Holland',\n",
       "  'ISO3166-2-lvl4': 'NL-ZH',\n",
       "  'country': 'Nederland',\n",
       "  'country_code': 'nl'},\n",
       " 'boundingbox': ['51.9237209', '51.9245275', '4.4691519', '4.4704235']}"
      ]
     },
     "execution_count": 20,
     "metadata": {},
     "output_type": "execute_result"
    }
   ],
   "source": [
    "locs[0].raw"
   ]
  },
  {
   "cell_type": "code",
   "execution_count": 23,
   "id": "7b7ae3ce",
   "metadata": {},
   "outputs": [
    {
     "data": {
      "text/plain": [
       "'Rotterdam'"
      ]
     },
     "execution_count": 23,
     "metadata": {},
     "output_type": "execute_result"
    }
   ],
   "source": [
    "locs[0].raw[\"address\"][\"city\"]"
   ]
  },
  {
   "cell_type": "code",
   "execution_count": 51,
   "id": "c2c12fa6",
   "metadata": {
    "scrolled": true
   },
   "outputs": [
    {
     "data": {
      "text/html": [
       "<div>\n",
       "<style scoped>\n",
       "    .dataframe tbody tr th:only-of-type {\n",
       "        vertical-align: middle;\n",
       "    }\n",
       "\n",
       "    .dataframe tbody tr th {\n",
       "        vertical-align: top;\n",
       "    }\n",
       "\n",
       "    .dataframe thead th {\n",
       "        text-align: right;\n",
       "    }\n",
       "</style>\n",
       "<table border=\"1\" class=\"dataframe\">\n",
       "  <thead>\n",
       "    <tr style=\"text-align: right;\">\n",
       "      <th></th>\n",
       "      <th>location_id</th>\n",
       "      <th>latitude</th>\n",
       "      <th>longitude</th>\n",
       "      <th>country</th>\n",
       "      <th>country_code</th>\n",
       "    </tr>\n",
       "  </thead>\n",
       "  <tbody>\n",
       "    <tr>\n",
       "      <th>0</th>\n",
       "      <td>332428</td>\n",
       "      <td>51.924049</td>\n",
       "      <td>4.470105</td>\n",
       "      <td>Nederland</td>\n",
       "      <td>nl</td>\n",
       "    </tr>\n",
       "    <tr>\n",
       "      <th>1</th>\n",
       "      <td>12535</td>\n",
       "      <td>40.763861</td>\n",
       "      <td>-73.972932</td>\n",
       "      <td>United States</td>\n",
       "      <td>us</td>\n",
       "    </tr>\n",
       "    <tr>\n",
       "      <th>2</th>\n",
       "      <td>167337</td>\n",
       "      <td>34.089709</td>\n",
       "      <td>-118.268309</td>\n",
       "      <td>United States</td>\n",
       "      <td>us</td>\n",
       "    </tr>\n",
       "    <tr>\n",
       "      <th>3</th>\n",
       "      <td>1049172</td>\n",
       "      <td>47.667950</td>\n",
       "      <td>-122.313285</td>\n",
       "      <td>United States</td>\n",
       "      <td>us</td>\n",
       "    </tr>\n",
       "    <tr>\n",
       "      <th>4</th>\n",
       "      <td>898204</td>\n",
       "      <td>30.274481</td>\n",
       "      <td>-97.739068</td>\n",
       "      <td>United States</td>\n",
       "      <td>us</td>\n",
       "    </tr>\n",
       "  </tbody>\n",
       "</table>\n",
       "</div>"
      ],
      "text/plain": [
       "   location_id   latitude   longitude        country country_code\n",
       "0       332428  51.924049    4.470105      Nederland           nl\n",
       "1        12535  40.763861  -73.972932  United States           us\n",
       "2       167337  34.089709 -118.268309  United States           us\n",
       "3      1049172  47.667950 -122.313285  United States           us\n",
       "4       898204  30.274481  -97.739068  United States           us"
      ]
     },
     "execution_count": 51,
     "metadata": {},
     "output_type": "execute_result"
    }
   ],
   "source": [
    "country, country_code = [], []\n",
    "for loc in locs:\n",
    "    try:\n",
    "        country.append(loc.raw[\"address\"][\"country\"])\n",
    "    except Exception as err:\n",
    "        if loc.raw[\"address\"][\"country_code\"] == \"pl\":\n",
    "            country.append(\"Poland\")\n",
    "        else:\n",
    "            print(f\"No country. Raw address:\\n{loc.raw['address']}\")            \n",
    "    country_code.append(loc.raw[\"address\"][\"country_code\"])\n",
    "    \n",
    "locations_df = pd.DataFrame({\n",
    "    \"location_id\": df_sample[\"location_id\"].tolist(),\n",
    "    \"latitude\": df_sample[\"latitude\"].tolist(),\n",
    "    \"longitude\": df_sample[\"longitude\"].tolist(),\n",
    "    \"country\": country, \n",
    "    \"country_code\": country_code\n",
    "})\n",
    "\n",
    "locations_df.head()"
   ]
  },
  {
   "cell_type": "code",
   "execution_count": 52,
   "id": "2fc4f1a4",
   "metadata": {},
   "outputs": [
    {
     "data": {
      "text/plain": [
       "2000"
      ]
     },
     "execution_count": 52,
     "metadata": {},
     "output_type": "execute_result"
    }
   ],
   "source": [
    "len(locations_df)"
   ]
  },
  {
   "cell_type": "code",
   "execution_count": 53,
   "id": "3b5f9ae6",
   "metadata": {},
   "outputs": [],
   "source": [
    "locations_df = locations_df.drop_duplicates()"
   ]
  },
  {
   "cell_type": "code",
   "execution_count": 54,
   "id": "66635827",
   "metadata": {},
   "outputs": [
    {
     "data": {
      "text/plain": [
       "1969"
      ]
     },
     "execution_count": 54,
     "metadata": {},
     "output_type": "execute_result"
    }
   ],
   "source": [
    "len(locations_df)"
   ]
  },
  {
   "cell_type": "code",
   "execution_count": 58,
   "id": "404060bd",
   "metadata": {},
   "outputs": [],
   "source": [
    "locations_df = locations_df.rename(columns={\"location_id\": \"id\"})\n",
    "locations_df.to_csv(path.join(PROCESSED_DATA, \"locations.csv\"), index=False)\n",
    "\n",
    "users_df.to_csv(path.join(PROCESSED_DATA, \"users.csv\"), index=False)\n",
    "\n",
    "df_sample = df_sample.rename(columns={\"user\": \"user_id\"})\n",
    "df_sample[[\"user_id\", \"location_id\", \"check_in_time\"]].to_csv(path.join(PROCESSED_DATA, \"checkins.csv\"), index=False)"
   ]
  },
  {
   "cell_type": "code",
   "execution_count": 59,
   "id": "ecdb0ff2",
   "metadata": {},
   "outputs": [
    {
     "data": {
      "text/html": [
       "<div>\n",
       "<style scoped>\n",
       "    .dataframe tbody tr th:only-of-type {\n",
       "        vertical-align: middle;\n",
       "    }\n",
       "\n",
       "    .dataframe tbody tr th {\n",
       "        vertical-align: top;\n",
       "    }\n",
       "\n",
       "    .dataframe thead th {\n",
       "        text-align: right;\n",
       "    }\n",
       "</style>\n",
       "<table border=\"1\" class=\"dataframe\">\n",
       "  <thead>\n",
       "    <tr style=\"text-align: right;\">\n",
       "      <th></th>\n",
       "      <th>user_id</th>\n",
       "      <th>check_in_time</th>\n",
       "      <th>latitude</th>\n",
       "      <th>longitude</th>\n",
       "      <th>location_id</th>\n",
       "      <th>counts</th>\n",
       "    </tr>\n",
       "  </thead>\n",
       "  <tbody>\n",
       "    <tr>\n",
       "      <th>0</th>\n",
       "      <td>5479</td>\n",
       "      <td>2010-10-03T16:10:09Z</td>\n",
       "      <td>51.924049</td>\n",
       "      <td>4.470105</td>\n",
       "      <td>332428</td>\n",
       "      <td>1693</td>\n",
       "    </tr>\n",
       "    <tr>\n",
       "      <th>1</th>\n",
       "      <td>39612</td>\n",
       "      <td>2010-02-21T20:36:02Z</td>\n",
       "      <td>40.763861</td>\n",
       "      <td>-73.972932</td>\n",
       "      <td>12535</td>\n",
       "      <td>1825</td>\n",
       "    </tr>\n",
       "    <tr>\n",
       "      <th>2</th>\n",
       "      <td>2</td>\n",
       "      <td>2010-09-21T02:33:01Z</td>\n",
       "      <td>34.089709</td>\n",
       "      <td>-118.268309</td>\n",
       "      <td>167337</td>\n",
       "      <td>2100</td>\n",
       "    </tr>\n",
       "    <tr>\n",
       "      <th>3</th>\n",
       "      <td>3384</td>\n",
       "      <td>2010-09-04T20:13:41Z</td>\n",
       "      <td>47.667950</td>\n",
       "      <td>-122.313285</td>\n",
       "      <td>1049172</td>\n",
       "      <td>1950</td>\n",
       "    </tr>\n",
       "    <tr>\n",
       "      <th>4</th>\n",
       "      <td>1201</td>\n",
       "      <td>2010-10-20T20:08:59Z</td>\n",
       "      <td>30.274481</td>\n",
       "      <td>-97.739068</td>\n",
       "      <td>898204</td>\n",
       "      <td>1825</td>\n",
       "    </tr>\n",
       "  </tbody>\n",
       "</table>\n",
       "</div>"
      ],
      "text/plain": [
       "   user_id         check_in_time   latitude   longitude  location_id  counts\n",
       "0     5479  2010-10-03T16:10:09Z  51.924049    4.470105       332428    1693\n",
       "1    39612  2010-02-21T20:36:02Z  40.763861  -73.972932        12535    1825\n",
       "2        2  2010-09-21T02:33:01Z  34.089709 -118.268309       167337    2100\n",
       "3     3384  2010-09-04T20:13:41Z  47.667950 -122.313285      1049172    1950\n",
       "4     1201  2010-10-20T20:08:59Z  30.274481  -97.739068       898204    1825"
      ]
     },
     "execution_count": 59,
     "metadata": {},
     "output_type": "execute_result"
    }
   ],
   "source": [
    "df_sample.head()"
   ]
  },
  {
   "cell_type": "code",
   "execution_count": 60,
   "id": "d3c6586f",
   "metadata": {},
   "outputs": [
    {
     "data": {
      "text/html": [
       "<div>\n",
       "<style scoped>\n",
       "    .dataframe tbody tr th:only-of-type {\n",
       "        vertical-align: middle;\n",
       "    }\n",
       "\n",
       "    .dataframe tbody tr th {\n",
       "        vertical-align: top;\n",
       "    }\n",
       "\n",
       "    .dataframe thead th {\n",
       "        text-align: right;\n",
       "    }\n",
       "</style>\n",
       "<table border=\"1\" class=\"dataframe\">\n",
       "  <thead>\n",
       "    <tr style=\"text-align: right;\">\n",
       "      <th></th>\n",
       "      <th>id</th>\n",
       "      <th>latitude</th>\n",
       "      <th>longitude</th>\n",
       "      <th>country</th>\n",
       "      <th>country_code</th>\n",
       "    </tr>\n",
       "  </thead>\n",
       "  <tbody>\n",
       "    <tr>\n",
       "      <th>0</th>\n",
       "      <td>332428</td>\n",
       "      <td>51.924049</td>\n",
       "      <td>4.470105</td>\n",
       "      <td>Nederland</td>\n",
       "      <td>nl</td>\n",
       "    </tr>\n",
       "    <tr>\n",
       "      <th>1</th>\n",
       "      <td>12535</td>\n",
       "      <td>40.763861</td>\n",
       "      <td>-73.972932</td>\n",
       "      <td>United States</td>\n",
       "      <td>us</td>\n",
       "    </tr>\n",
       "    <tr>\n",
       "      <th>2</th>\n",
       "      <td>167337</td>\n",
       "      <td>34.089709</td>\n",
       "      <td>-118.268309</td>\n",
       "      <td>United States</td>\n",
       "      <td>us</td>\n",
       "    </tr>\n",
       "    <tr>\n",
       "      <th>3</th>\n",
       "      <td>1049172</td>\n",
       "      <td>47.667950</td>\n",
       "      <td>-122.313285</td>\n",
       "      <td>United States</td>\n",
       "      <td>us</td>\n",
       "    </tr>\n",
       "    <tr>\n",
       "      <th>4</th>\n",
       "      <td>898204</td>\n",
       "      <td>30.274481</td>\n",
       "      <td>-97.739068</td>\n",
       "      <td>United States</td>\n",
       "      <td>us</td>\n",
       "    </tr>\n",
       "  </tbody>\n",
       "</table>\n",
       "</div>"
      ],
      "text/plain": [
       "        id   latitude   longitude        country country_code\n",
       "0   332428  51.924049    4.470105      Nederland           nl\n",
       "1    12535  40.763861  -73.972932  United States           us\n",
       "2   167337  34.089709 -118.268309  United States           us\n",
       "3  1049172  47.667950 -122.313285  United States           us\n",
       "4   898204  30.274481  -97.739068  United States           us"
      ]
     },
     "execution_count": 60,
     "metadata": {},
     "output_type": "execute_result"
    }
   ],
   "source": [
    "locations_df.head()"
   ]
  },
  {
   "cell_type": "code",
   "execution_count": 61,
   "id": "293e32f4",
   "metadata": {},
   "outputs": [
    {
     "data": {
      "text/html": [
       "<div>\n",
       "<style scoped>\n",
       "    .dataframe tbody tr th:only-of-type {\n",
       "        vertical-align: middle;\n",
       "    }\n",
       "\n",
       "    .dataframe tbody tr th {\n",
       "        vertical-align: top;\n",
       "    }\n",
       "\n",
       "    .dataframe thead th {\n",
       "        text-align: right;\n",
       "    }\n",
       "</style>\n",
       "<table border=\"1\" class=\"dataframe\">\n",
       "  <thead>\n",
       "    <tr style=\"text-align: right;\">\n",
       "      <th></th>\n",
       "      <th>id</th>\n",
       "      <th>first_name</th>\n",
       "      <th>last_name</th>\n",
       "      <th>dob</th>\n",
       "      <th>nationality</th>\n",
       "      <th>gender</th>\n",
       "      <th>email</th>\n",
       "    </tr>\n",
       "  </thead>\n",
       "  <tbody>\n",
       "    <tr>\n",
       "      <th>0</th>\n",
       "      <td>5479</td>\n",
       "      <td>Flavie</td>\n",
       "      <td>Marie</td>\n",
       "      <td>1987-05-15T04:40:11.787Z</td>\n",
       "      <td>FR</td>\n",
       "      <td>female</td>\n",
       "      <td>flavie.marie@example.com</td>\n",
       "    </tr>\n",
       "    <tr>\n",
       "      <th>1</th>\n",
       "      <td>39612</td>\n",
       "      <td>Torgeir</td>\n",
       "      <td>Granli</td>\n",
       "      <td>1961-12-17T01:23:44.691Z</td>\n",
       "      <td>NO</td>\n",
       "      <td>male</td>\n",
       "      <td>torgeir.granli@example.com</td>\n",
       "    </tr>\n",
       "    <tr>\n",
       "      <th>2</th>\n",
       "      <td>2</td>\n",
       "      <td>Thomas</td>\n",
       "      <td>Hart</td>\n",
       "      <td>1981-08-25T16:07:33.619Z</td>\n",
       "      <td>US</td>\n",
       "      <td>male</td>\n",
       "      <td>thomas.hart@example.com</td>\n",
       "    </tr>\n",
       "    <tr>\n",
       "      <th>3</th>\n",
       "      <td>3384</td>\n",
       "      <td>Ouail</td>\n",
       "      <td>Van Velthoven</td>\n",
       "      <td>1962-04-15T04:13:22.109Z</td>\n",
       "      <td>NL</td>\n",
       "      <td>male</td>\n",
       "      <td>ouail.vanvelthoven@example.com</td>\n",
       "    </tr>\n",
       "    <tr>\n",
       "      <th>4</th>\n",
       "      <td>1201</td>\n",
       "      <td>Blake</td>\n",
       "      <td>Ramirez</td>\n",
       "      <td>1975-02-16T20:03:54.801Z</td>\n",
       "      <td>GB</td>\n",
       "      <td>male</td>\n",
       "      <td>blake.ramirez@example.com</td>\n",
       "    </tr>\n",
       "  </tbody>\n",
       "</table>\n",
       "</div>"
      ],
      "text/plain": [
       "      id first_name      last_name                       dob nationality  \\\n",
       "0   5479     Flavie          Marie  1987-05-15T04:40:11.787Z          FR   \n",
       "1  39612    Torgeir         Granli  1961-12-17T01:23:44.691Z          NO   \n",
       "2      2     Thomas           Hart  1981-08-25T16:07:33.619Z          US   \n",
       "3   3384      Ouail  Van Velthoven  1962-04-15T04:13:22.109Z          NL   \n",
       "4   1201      Blake        Ramirez  1975-02-16T20:03:54.801Z          GB   \n",
       "\n",
       "   gender                           email  \n",
       "0  female        flavie.marie@example.com  \n",
       "1    male      torgeir.granli@example.com  \n",
       "2    male         thomas.hart@example.com  \n",
       "3    male  ouail.vanvelthoven@example.com  \n",
       "4    male       blake.ramirez@example.com  "
      ]
     },
     "execution_count": 61,
     "metadata": {},
     "output_type": "execute_result"
    }
   ],
   "source": [
    "users_df.head()"
   ]
  },
  {
   "cell_type": "code",
   "execution_count": null,
   "id": "8a339053",
   "metadata": {},
   "outputs": [],
   "source": []
  }
 ],
 "metadata": {
  "kernelspec": {
   "display_name": "Python 3 (ipykernel)",
   "language": "python",
   "name": "python3"
  },
  "language_info": {
   "codemirror_mode": {
    "name": "ipython",
    "version": 3
   },
   "file_extension": ".py",
   "mimetype": "text/x-python",
   "name": "python",
   "nbconvert_exporter": "python",
   "pygments_lexer": "ipython3",
   "version": "3.10.9"
  }
 },
 "nbformat": 4,
 "nbformat_minor": 5
}
